{
  "nbformat": 4,
  "nbformat_minor": 0,
  "metadata": {
    "colab": {
      "name": "autoencoder.ipynb",
      "provenance": []
    },
    "kernelspec": {
      "name": "python3",
      "display_name": "Python 3"
    },
    "language_info": {
      "name": "python"
    }
  },
  "cells": [
    {
      "cell_type": "code",
      "metadata": {
        "id": "7VEcroh4T-lH"
      },
      "source": [
        "import torch\n",
        "import torch.nn as nn\n",
        "import torch.utils.data as data\n",
        "import torchvision"
      ],
      "execution_count": 2,
      "outputs": []
    },
    {
      "cell_type": "code",
      "metadata": {
        "colab": {
          "base_uri": "https://localhost:8080/"
        },
        "id": "ds23DmC7UCgt",
        "outputId": "5bf03448-7f8d-47b4-ba52-b332b9493c10"
      },
      "source": [
        "epochs = 10\n",
        "batch_size = 128\n",
        "lr = 0.008\n",
        "\n",
        "\n",
        "# DataLoader\n",
        "train_set = torchvision.datasets.MNIST(\n",
        "    root='mnist',\n",
        "    train=True,\n",
        "    download=True,\n",
        "    transform=torchvision.transforms.ToTensor(),\n",
        ")\n",
        "train_loader = data.DataLoader(train_set, batch_size=batch_size, shuffle=True)"
      ],
      "execution_count": 3,
      "outputs": [
        {
          "output_type": "stream",
          "text": [
            "/usr/local/lib/python3.7/dist-packages/torchvision/datasets/mnist.py:498: UserWarning: The given NumPy array is not writeable, and PyTorch does not support non-writeable tensors. This means you can write to the underlying (supposedly non-writeable) NumPy array using the tensor. You may want to copy the array to protect its data or make it writeable before converting it to a tensor. This type of warning will be suppressed for the rest of this program. (Triggered internally at  /pytorch/torch/csrc/utils/tensor_numpy.cpp:180.)\n",
            "  return torch.from_numpy(parsed.astype(m[2], copy=False)).view(*s)\n"
          ],
          "name": "stderr"
        }
      ]
    },
    {
      "cell_type": "code",
      "metadata": {
        "id": "aP0aO9h6UKQM"
      },
      "source": [
        "class autoencoder(nn.Module):\n",
        "  def __init__(self):\n",
        "    super(autoencoder,self).__init__()\n",
        "    self.encoder=nn.Sequential(\n",
        "        nn.Linear(784,128),#28*28\n",
        "        nn.ReLU(),\n",
        "        nn.Linear(128,64),\n",
        "        nn.ReLU(),\n",
        "        nn.Linear(64,16),\n",
        "        nn.ReLU(),\n",
        "        nn.Linear(16,2),\n",
        "        nn.ReLU()\n",
        "    )\n",
        "    self.decoder=nn.Sequential(\n",
        "        nn.Linear(2,16),\n",
        "        nn.ReLU(),\n",
        "        nn.Linear(16,64),\n",
        "        nn.ReLU(),\n",
        "        nn.Linear(64,128),\n",
        "        nn.ReLU(),\n",
        "        nn.Linear(128,784),#28*28\n",
        "        nn.Sigmoid()\n",
        "    )\n",
        "  def forward(self,inputs):\n",
        "    enc=self.encoder(inputs)\n",
        "    dec=self.decoder(enc)\n",
        "    return enc,dec"
      ],
      "execution_count": 24,
      "outputs": []
    },
    {
      "cell_type": "code",
      "metadata": {
        "colab": {
          "base_uri": "https://localhost:8080/"
        },
        "id": "UXfn18apWgJ0",
        "outputId": "399f390e-1ee3-427a-d5cb-afb3477632af"
      },
      "source": [
        "import numpy as np\n",
        "# cuda\n",
        "device = torch.device(\"cuda:0\" if torch.cuda.is_available() else \"cpu\")\n",
        "AE=autoencoder().to(device)\n",
        "\n",
        "def train():\n",
        "  loss_function = nn.MSELoss()\n",
        "  optimizer = torch.optim.Adam(AE.parameters(), lr=lr)\n",
        "\n",
        "  for epoch in range(30): \n",
        "      running_loss = 0.0\n",
        "      num = 0\n",
        "      for i, data in enumerate(train_loader):\n",
        "          inputs, labels = data\n",
        "          inputs, labels = inputs.to(device), labels.to(device)  \n",
        "          inputs = inputs.view(-1,784).to(device)\n",
        "          enc,dec= AE(inputs)\n",
        "          optimizer.zero_grad()\n",
        "          \n",
        "          loss = loss_function(dec, inputs).to(device)\n",
        "          loss.backward()   # 梯度計算\n",
        "          optimizer.step()  # 參數更新\n",
        "\n",
        "          running_loss += loss.item()\n",
        "          num += labels.size()[0]\n",
        "\n",
        "      print('epoch: %d\\t loss: %.6f' % (epoch + 1, running_loss / num))\n",
        "    \n",
        "if __name__ == '__main__':\n",
        "    train()\n",
        "    print('Training Finished')"
      ],
      "execution_count": 25,
      "outputs": [
        {
          "output_type": "stream",
          "text": [
            "epoch: 1\t loss: 0.000475\n",
            "epoch: 2\t loss: 0.000424\n",
            "epoch: 3\t loss: 0.000406\n",
            "epoch: 4\t loss: 0.000400\n",
            "epoch: 5\t loss: 0.000364\n",
            "epoch: 6\t loss: 0.000342\n",
            "epoch: 7\t loss: 0.000333\n",
            "epoch: 8\t loss: 0.000327\n",
            "epoch: 9\t loss: 0.000324\n",
            "epoch: 10\t loss: 0.000316\n",
            "epoch: 11\t loss: 0.000316\n",
            "epoch: 12\t loss: 0.000311\n",
            "epoch: 13\t loss: 0.000309\n",
            "epoch: 14\t loss: 0.000306\n",
            "epoch: 15\t loss: 0.000305\n",
            "epoch: 16\t loss: 0.000303\n",
            "epoch: 17\t loss: 0.000303\n",
            "epoch: 18\t loss: 0.000303\n",
            "epoch: 19\t loss: 0.000301\n",
            "epoch: 20\t loss: 0.000302\n",
            "epoch: 21\t loss: 0.000300\n",
            "epoch: 22\t loss: 0.000299\n",
            "epoch: 23\t loss: 0.000299\n",
            "epoch: 24\t loss: 0.000297\n",
            "epoch: 25\t loss: 0.000296\n",
            "epoch: 26\t loss: 0.000296\n",
            "epoch: 27\t loss: 0.000296\n",
            "epoch: 28\t loss: 0.000299\n",
            "epoch: 29\t loss: 0.000299\n",
            "epoch: 30\t loss: 0.000294\n",
            "Training Finished\n"
          ],
          "name": "stdout"
        }
      ]
    },
    {
      "cell_type": "code",
      "metadata": {
        "colab": {
          "base_uri": "https://localhost:8080/",
          "height": 915
        },
        "id": "PTaWerCHogKc",
        "outputId": "67a3d046-cc90-4eca-9cbf-35d18c7237ef"
      },
      "source": [
        "import torch\n",
        "import torch.nn as nn\n",
        "import torch.utils.data as data\n",
        "import torchvision\n",
        "import numpy as np\n",
        "import matplotlib.pyplot as plt\n",
        "\n",
        "plt.rcParams['figure.figsize'] = (10.0, 8.0)\n",
        "plt.rcParams['image.interpolation'] = 'nearest'\n",
        "plt.rcParams['image.cmap'] = 'gray'\n",
        "\n",
        "\n",
        "def show_images(images):\n",
        "  sqrtn = int(np.ceil(np.sqrt(images.shape[0])))\n",
        "  for index, image in enumerate(images):\n",
        "      plt.subplot(sqrtn, sqrtn, index+1)\n",
        "      plt.imshow(image.reshape(28, 28))\n",
        "      plt.axis('off')\n",
        "\n",
        "test_set = torchvision.datasets.MNIST(\n",
        "  root='mnist',\n",
        "  train=False,\n",
        "  download=True,\n",
        "  transform=torchvision.transforms.ToTensor(),\n",
        ")\n",
        "test_loader = data.DataLoader(test_set, batch_size=16, shuffle=False)\n",
        "\n",
        "\n",
        "with torch.no_grad():\n",
        "  for data in test_loader:\n",
        "    inputs = data[0].view(-1, 28*28)\n",
        "    show_images(inputs)\n",
        "    plt.show()\n",
        "\n",
        "    code, outputs = AE(inputs)\n",
        "    show_images(outputs)\n",
        "    plt.show()\n",
        "    break;\n",
        "    # exit()"
      ],
      "execution_count": 26,
      "outputs": [
        {
          "output_type": "display_data",
          "data": {
            "image/png": "[encoded data removed]",
            "text/plain": [
              "<Figure size 720x576 with 16 Axes>"
            ]
          },
          "metadata": {
            "tags": [],
            "needs_background": "light"
          }
        },
        {
          "output_type": "display_data",
          "data": {
            "image/png": "[encoded data removed]",
            "text/plain": [
              "<Figure size 720x576 with 16 Axes>"
            ]
          },
          "metadata": {
            "tags": [],
            "needs_background": "light"
          }
        }
      ]
    }
  ]
}