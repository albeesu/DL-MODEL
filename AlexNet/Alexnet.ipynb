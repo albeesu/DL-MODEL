{
  "nbformat": 4,
  "nbformat_minor": 0,
  "metadata": {
    "colab": {
      "name": "Alexnet.ipynb",
      "provenance": [],
      "collapsed_sections": []
    },
    "kernelspec": {
      "name": "python3",
      "display_name": "Python 3"
    },
    "language_info": {
      "name": "python"
    },
    "accelerator": "GPU"
  },
  "cells": [
    {
      "cell_type": "markdown",
      "metadata": {
        "id": "blI7ChSc9LSI"
      },
      "source": [
        "#MNIST CNN"
      ]
    },
    {
      "cell_type": "code",
      "metadata": {
        "id": "KbOWCoh_tbfJ"
      },
      "source": [
        "import numpy as np\n",
        "from keras.models import Sequential\n",
        "from keras.layers import Conv2D, MaxPooling2D, Flatten, Dense, Dropout,BatchNormalization\n",
        "from keras.callbacks import ModelCheckpoint\n",
        "from keras.utils import to_categorical\n",
        "from keras.datasets import mnist\n",
        "(train_data, y_train), (test_data, y_test) = mnist.load_data()"
      ],
      "execution_count": null,
      "outputs": []
    },
    {
      "cell_type": "code",
      "metadata": {
        "id": "uvxnFjB4vPwU"
      },
      "source": [
        "train_data = train_data.reshape(train_data.shape[0], 28, 28, 1)\n",
        "test_data = test_data.reshape(test_data.shape[0], 28, 28, 1)\n",
        "y_train = to_categorical(y_train, num_classes=10) #轉為one hot\n",
        "y_test = to_categorical(y_test, num_classes=10) #轉為one hot"
      ],
      "execution_count": null,
      "outputs": []
    },
    {
      "cell_type": "code",
      "metadata": {
        "colab": {
          "base_uri": "https://localhost:8080/"
        },
        "id": "WsBKbZelt97E",
        "outputId": "afed5a0d-e48f-4bae-f7bb-67a590e4d5d4"
      },
      "source": [
        "model = Sequential()\n",
        "model.add(Conv2D(96, (11, 11), strides=(1, 1),  padding='valid', activation='relu', input_shape=(28, 28, 1),name='Conv1'))\n",
        "model.add(MaxPooling2D(pool_size=(3, 3), strides=(2, 2),name='Pool1'))\n",
        "model.add(BatchNormalization(name='Norn1'))\n",
        "\n",
        "model.add(Conv2D(256, (5, 5), strides=(1, 1),  padding='same', activation='relu',name='Conv2'))\n",
        "model.add(MaxPooling2D(pool_size=(3, 3), strides=(2, 2),name='Pool2'))\n",
        "model.add(BatchNormalization(name='Norn2'))\n",
        "model.add(Conv2D(384, (3, 3), strides=(1, 1),  padding='same', activation='relu',name='Conv3'))\n",
        "model.add(Conv2D(384, (3, 3), strides=(1, 1),  padding='same', activation='relu',name='Conv4'))\n",
        "model.add(Conv2D(256, (3, 3), strides=(1, 1),  padding='same', activation='relu',name='Conv5'))\n",
        "model.add(MaxPooling2D(pool_size=(3, 3), strides=(2, 2),name='Pool3'))\n",
        "\n",
        "model.add(Flatten())\n",
        "model.add(Dense(4096, activation='relu',name='FC4'))\n",
        "model.add(Dropout(0.8))\n",
        "model.add(Dense(1000, activation='relu',name='FC5'))\n",
        "model.add(Dropout(0.8))\n",
        "model.add(Dense(10, activation='softmax',name='FC6'))\n",
        "\n",
        "model.summary()"
      ],
      "execution_count": null,
      "outputs": [
        {
          "output_type": "stream",
          "text": [
            "Model: \"sequential_2\"\n",
            "_________________________________________________________________\n",
            "Layer (type)                 Output Shape              Param #   \n",
            "=================================================================\n",
            "Conv1 (Conv2D)               (None, 28, 28, 96)        11712     \n",
            "_________________________________________________________________\n",
            "Pool1 (MaxPooling2D)         (None, 13, 13, 96)        0         \n",
            "_________________________________________________________________\n",
            "Norn1 (BatchNormalization)   (None, 13, 13, 96)        384       \n",
            "_________________________________________________________________\n",
            "Conv2 (Conv2D)               (None, 13, 13, 256)       614656    \n",
            "_________________________________________________________________\n",
            "Pool2 (MaxPooling2D)         (None, 6, 6, 256)         0         \n",
            "_________________________________________________________________\n",
            "Norn2 (BatchNormalization)   (None, 6, 6, 256)         1024      \n",
            "_________________________________________________________________\n",
            "Conv3 (Conv2D)               (None, 6, 6, 384)         885120    \n",
            "_________________________________________________________________\n",
            "Conv4 (Conv2D)               (None, 6, 6, 384)         1327488   \n",
            "_________________________________________________________________\n",
            "Conv5 (Conv2D)               (None, 6, 6, 256)         884992    \n",
            "_________________________________________________________________\n",
            "Pool3 (MaxPooling2D)         (None, 2, 2, 256)         0         \n",
            "_________________________________________________________________\n",
            "flatten_2 (Flatten)          (None, 1024)              0         \n",
            "_________________________________________________________________\n",
            "FC4 (Dense)                  (None, 4096)              4198400   \n",
            "_________________________________________________________________\n",
            "dropout_4 (Dropout)          (None, 4096)              0         \n",
            "_________________________________________________________________\n",
            "FC5 (Dense)                  (None, 1000)              4097000   \n",
            "_________________________________________________________________\n",
            "dropout_5 (Dropout)          (None, 1000)              0         \n",
            "_________________________________________________________________\n",
            "FC6 (Dense)                  (None, 10)                10010     \n",
            "=================================================================\n",
            "Total params: 12,030,786\n",
            "Trainable params: 12,030,082\n",
            "Non-trainable params: 704\n",
            "_________________________________________________________________\n"
          ],
          "name": "stdout"
        }
      ]
    },
    {
      "cell_type": "code",
      "metadata": {
        "colab": {
          "base_uri": "https://localhost:8080/"
        },
        "id": "8gjbmcHvto64",
        "outputId": "653503b8-7178-4960-bdb7-74a61972e42b"
      },
      "source": [
        "model.compile(optimizer='adam',\n",
        "      loss='categorical_crossentropy',\n",
        "      metrics=[\"accuracy\"])\n",
        "\n",
        "history = model.fit(\n",
        "    train_data,\n",
        "    y_train,\n",
        "    batch_size=64,\n",
        "    validation_split=0.3,\n",
        "    epochs=10)"
      ],
      "execution_count": null,
      "outputs": [
        {
          "output_type": "stream",
          "text": [
            "Epoch 1/30\n",
            "657/657 [==============================] - 16s 24ms/step - loss: 0.2031 - accuracy: 0.9561 - val_loss: 0.4054 - val_accuracy: 0.8939\n",
            "Epoch 2/30\n",
            "657/657 [==============================] - 15s 23ms/step - loss: 0.1556 - accuracy: 0.9675 - val_loss: 0.1408 - val_accuracy: 0.9693\n",
            "Epoch 3/30\n",
            "657/657 [==============================] - 15s 23ms/step - loss: 0.1089 - accuracy: 0.9772 - val_loss: 0.0898 - val_accuracy: 0.9843\n",
            "Epoch 4/30\n",
            "657/657 [==============================] - 15s 23ms/step - loss: 0.1119 - accuracy: 0.9793 - val_loss: 0.0947 - val_accuracy: 0.9840\n",
            "Epoch 5/30\n",
            "657/657 [==============================] - 15s 23ms/step - loss: 0.1035 - accuracy: 0.9799 - val_loss: 0.0874 - val_accuracy: 0.9833\n",
            "Epoch 6/30\n",
            "657/657 [==============================] - 15s 23ms/step - loss: 0.0612 - accuracy: 0.9870 - val_loss: 0.1016 - val_accuracy: 0.9811\n",
            "Epoch 7/30\n",
            "657/657 [==============================] - 15s 23ms/step - loss: 0.0798 - accuracy: 0.9842 - val_loss: 0.1417 - val_accuracy: 0.9796\n",
            "Epoch 8/30\n",
            "657/657 [==============================] - 15s 23ms/step - loss: 0.0764 - accuracy: 0.9854 - val_loss: 0.0886 - val_accuracy: 0.9863\n",
            "Epoch 9/30\n",
            "657/657 [==============================] - 15s 23ms/step - loss: 0.0700 - accuracy: 0.9864 - val_loss: 0.1372 - val_accuracy: 0.9836\n",
            "Epoch 10/30\n",
            "657/657 [==============================] - 15s 23ms/step - loss: 0.0814 - accuracy: 0.9853 - val_loss: 0.1057 - val_accuracy: 0.9853\n",
            "Epoch 11/30\n",
            "657/657 [==============================] - 15s 23ms/step - loss: 0.0715 - accuracy: 0.9868 - val_loss: 0.1108 - val_accuracy: 0.9857\n",
            "Epoch 12/30\n",
            "657/657 [==============================] - 15s 23ms/step - loss: 0.0506 - accuracy: 0.9904 - val_loss: 0.0766 - val_accuracy: 0.9881\n",
            "Epoch 13/30\n",
            "657/657 [==============================] - 15s 23ms/step - loss: 0.0423 - accuracy: 0.9921 - val_loss: 0.1115 - val_accuracy: 0.9809\n",
            "Epoch 14/30\n",
            "657/657 [==============================] - 15s 23ms/step - loss: 0.0708 - accuracy: 0.9869 - val_loss: 0.1279 - val_accuracy: 0.9829\n",
            "Epoch 15/30\n",
            "657/657 [==============================] - 15s 23ms/step - loss: 0.0450 - accuracy: 0.9908 - val_loss: 0.1192 - val_accuracy: 0.9847\n",
            "Epoch 16/30\n",
            "657/657 [==============================] - 15s 23ms/step - loss: 0.0597 - accuracy: 0.9895 - val_loss: 0.1974 - val_accuracy: 0.9771\n",
            "Epoch 17/30\n",
            "657/657 [==============================] - 15s 23ms/step - loss: 0.0601 - accuracy: 0.9883 - val_loss: 0.1363 - val_accuracy: 0.9851\n",
            "Epoch 18/30\n",
            "657/657 [==============================] - 15s 23ms/step - loss: 0.0442 - accuracy: 0.9920 - val_loss: 0.0792 - val_accuracy: 0.9884\n",
            "Epoch 19/30\n",
            "657/657 [==============================] - 15s 23ms/step - loss: 0.0329 - accuracy: 0.9937 - val_loss: 0.1096 - val_accuracy: 0.9856\n",
            "Epoch 20/30\n",
            "657/657 [==============================] - 15s 23ms/step - loss: 0.0367 - accuracy: 0.9923 - val_loss: 0.0774 - val_accuracy: 0.9882\n",
            "Epoch 21/30\n",
            "657/657 [==============================] - 15s 23ms/step - loss: 0.0314 - accuracy: 0.9945 - val_loss: 0.1813 - val_accuracy: 0.9797\n",
            "Epoch 22/30\n",
            "657/657 [==============================] - 15s 23ms/step - loss: 0.0882 - accuracy: 0.9854 - val_loss: 0.0996 - val_accuracy: 0.9897\n",
            "Epoch 23/30\n",
            "657/657 [==============================] - 15s 23ms/step - loss: 0.0293 - accuracy: 0.9946 - val_loss: 0.0933 - val_accuracy: 0.9886\n",
            "Epoch 24/30\n",
            "657/657 [==============================] - 15s 23ms/step - loss: 0.0267 - accuracy: 0.9947 - val_loss: 0.0817 - val_accuracy: 0.9903\n",
            "Epoch 25/30\n",
            "657/657 [==============================] - 15s 23ms/step - loss: 0.0247 - accuracy: 0.9955 - val_loss: 0.2454 - val_accuracy: 0.9864\n",
            "Epoch 26/30\n",
            "657/657 [==============================] - 15s 23ms/step - loss: 0.0440 - accuracy: 0.9927 - val_loss: 0.0987 - val_accuracy: 0.9840\n",
            "Epoch 27/30\n",
            "657/657 [==============================] - 15s 23ms/step - loss: 0.0404 - accuracy: 0.9927 - val_loss: 0.1005 - val_accuracy: 0.9902\n",
            "Epoch 28/30\n",
            "657/657 [==============================] - 15s 23ms/step - loss: 0.0553 - accuracy: 0.9913 - val_loss: 0.1339 - val_accuracy: 0.9865\n",
            "Epoch 29/30\n",
            "657/657 [==============================] - 15s 23ms/step - loss: 0.0580 - accuracy: 0.9922 - val_loss: 0.1439 - val_accuracy: 0.9910\n",
            "Epoch 30/30\n",
            "657/657 [==============================] - 15s 23ms/step - loss: 0.0287 - accuracy: 0.9958 - val_loss: 0.0878 - val_accuracy: 0.9891\n"
          ],
          "name": "stdout"
        }
      ]
    },
    {
      "cell_type": "code",
      "metadata": {
        "id": "QI83QT9qCmyk"
      },
      "source": [
        "import matplotlib.pyplot as plt\n",
        "plt.figure()\n",
        "plt.plot(history.history['loss'])\n",
        "plt.plot(history.history['val_loss'])\n",
        "plt.title('model loss')\n",
        "plt.ylabel('loss')\n",
        "plt.xlabel('epoch')\n"
      ],
      "execution_count": null,
      "outputs": []
    },
    {
      "cell_type": "code",
      "metadata": {
        "colab": {
          "base_uri": "https://localhost:8080/"
        },
        "id": "Ldvux37_Cmys",
        "outputId": "ce6afe20-d84a-4ac0-e945-aba0bb346a01"
      },
      "source": [
        "model.evaluate(test_data,y_test)"
      ],
      "execution_count": null,
      "outputs": [
        {
          "output_type": "stream",
          "text": [
            "313/313 [==============================] - 2s 5ms/step - loss: 0.1068 - accuracy: 0.9851\n"
          ],
          "name": "stdout"
        },
        {
          "output_type": "execute_result",
          "data": {
            "text/plain": [
              "[0.10678515583276749, 0.9850999712944031]"
            ]
          },
          "metadata": {
            "tags": []
          },
          "execution_count": 9
        }
      ]
    },
    {
      "cell_type": "code",
      "metadata": {
        "colab": {
          "base_uri": "https://localhost:8080/"
        },
        "id": "_QjsHMOrCmyu",
        "outputId": "b3476bd0-446e-44ee-e2c2-88d5faa1b347"
      },
      "source": [
        "import numpy as np\n",
        "from sklearn.metrics import classification_report\n",
        "predictions = model.predict(test_data)\n",
        "test_label=np.argmax(y_test, axis=1)\n",
        "print(classification_report(test_label, np.argmax(predictions, axis=1))) "
      ],
      "execution_count": null,
      "outputs": [
        {
          "output_type": "stream",
          "text": [
            "              precision    recall  f1-score   support\n",
            "\n",
            "           0       1.00      0.97      0.98       980\n",
            "           1       0.95      1.00      0.97      1135\n",
            "           2       0.98      0.99      0.99      1032\n",
            "           3       0.98      0.99      0.98      1010\n",
            "           4       0.98      0.99      0.98       982\n",
            "           5       1.00      0.98      0.99       892\n",
            "           6       0.99      0.97      0.98       958\n",
            "           7       0.99      0.99      0.99      1028\n",
            "           8       1.00      0.99      0.99       974\n",
            "           9       0.99      0.98      0.98      1009\n",
            "\n",
            "    accuracy                           0.99     10000\n",
            "   macro avg       0.99      0.98      0.99     10000\n",
            "weighted avg       0.99      0.99      0.99     10000\n",
            "\n"
          ],
          "name": "stdout"
        }
      ]
    },
    {
      "cell_type": "markdown",
      "metadata": {
        "id": "qT6KUIjII-o_"
      },
      "source": [
        "#resize project"
      ]
    },
    {
      "cell_type": "code",
      "metadata": {
        "id": "khGKJKIupDok"
      },
      "source": [
        "import numpy as np\n",
        "from keras.models import Sequential\n",
        "from keras.layers import Conv2D, MaxPooling2D, Flatten, Dense, Dropout,BatchNormalization\n",
        "from keras.callbacks import ModelCheckpoint\n",
        "from keras.utils import to_categorical\n",
        "from keras.datasets import mnist\n",
        "(x_train, train_label), (x_test, test_label) = mnist.load_data()"
      ],
      "execution_count": null,
      "outputs": []
    },
    {
      "cell_type": "code",
      "metadata": {
        "id": "6mCulwfgKtWg"
      },
      "source": [
        "import cv2\n",
        "train_data = []\n",
        "for img in x_train:\n",
        "  resized_img = cv2.resize(img, (227, 227))\n",
        "  train_data.append(resized_img)\n",
        "test_data = []\n",
        "for img in x_test:\n",
        "  resized_img = cv2.resize(img, (227, 227))\n",
        "  test_data.append(resized_img)"
      ],
      "execution_count": null,
      "outputs": []
    },
    {
      "cell_type": "code",
      "metadata": {
        "colab": {
          "base_uri": "https://localhost:8080/",
          "height": 221
        },
        "id": "h-oNVcchFhKD",
        "outputId": "664a9c69-9664-42cb-8598-1b89d442d14b"
      },
      "source": [
        "import matplotlib.pyplot as plt\n",
        "fig, axarr = plt.subplots(1, 2)\n",
        "axarr[0].imshow(x_train[0])\n",
        "axarr[1].imshow(train_data[0])"
      ],
      "execution_count": null,
      "outputs": [
        {
          "output_type": "execute_result",
          "data": {
            "text/plain": [
              "<matplotlib.image.AxesImage at 0x7f879207a0d0>"
            ]
          },
          "metadata": {
            "tags": []
          },
          "execution_count": 14
        },
        {
          "output_type": "display_data",
          "data": {
            "image/png": "[encoded data removed]",
            "text/plain": [
              "<Figure size 432x288 with 2 Axes>"
            ]
          },
          "metadata": {
            "tags": [],
            "needs_background": "light"
          }
        }
      ]
    },
    {
      "cell_type": "code",
      "metadata": {
        "id": "JU-3-MvQzttT"
      },
      "source": [
        "train_data=np.array(train_data)\n",
        "test_data=np.array(test_data)\n",
        "train_data = train_data.reshape(train_data.shape[0], 227, 227, 1)\n",
        "test_data = test_data.reshape(test_data.shape[0], 227, 227, 1)\n",
        "train_label = to_categorical(train_label, num_classes=10)\n",
        "test_label = to_categorical(test_label, num_classes=10)"
      ],
      "execution_count": null,
      "outputs": []
    },
    {
      "cell_type": "code",
      "metadata": {
        "colab": {
          "base_uri": "https://localhost:8080/"
        },
        "id": "EqlN4s7ZK_z-",
        "outputId": "4e099c98-bd5e-424b-d893-0f9939857cd4"
      },
      "source": [
        "model = Sequential()\n",
        "\n",
        "model.add(Conv2D(96, (11, 11),strides=(4,4),padding='valid', activation='relu', input_shape=(227, 227,1),name='Conv1'))\n",
        "model.add(MaxPooling2D(pool_size=(3, 3),strides=(2,2),name='Pool1'))\n",
        "model.add(BatchNormalization(name='Norn1'))\n",
        "\n",
        "model.add(Conv2D(256, (5, 5),strides=(1,1),padding='same', activation='relu',name='Conv2'))\n",
        "model.add(MaxPooling2D(pool_size=(3, 3),strides=(2,2),name='Pool2'))\n",
        "model.add(BatchNormalization(name='Norn2'))\n",
        "\n",
        "model.add(Conv2D(384, (3, 3),strides=(1,1),padding='same', activation='relu',name='Conv3'))\n",
        "model.add(Conv2D(384, (3, 3),strides=(1,1),padding='same', activation='relu',name='Conv4'))\n",
        "model.add(Conv2D(256, (3, 3),strides=(1,1),padding='same', activation='relu',name='Conv5'))\n",
        "model.add(MaxPooling2D(pool_size=(3, 3),strides=(2,2),name='Pool3'))\n",
        "\n",
        "model.add(Flatten())\n",
        "model.add(Dense(4096, activation='relu',name='FC4'))\n",
        "model.add(Dropout(0.5))\n",
        "model.add(Dense(4096, activation='relu',name='FC5'))\n",
        "model.add(Dropout(0.5))\n",
        "model.add(Dense(10, activation='softmax',name='FC6'))\n",
        "\n",
        "model.summary()"
      ],
      "execution_count": null,
      "outputs": [
        {
          "output_type": "stream",
          "text": [
            "Model: \"sequential_1\"\n",
            "_________________________________________________________________\n",
            "Layer (type)                 Output Shape              Param #   \n",
            "=================================================================\n",
            "Conv1 (Conv2D)               (None, 55, 55, 96)        11712     \n",
            "_________________________________________________________________\n",
            "Pool1 (MaxPooling2D)         (None, 27, 27, 96)        0         \n",
            "_________________________________________________________________\n",
            "Norn1 (BatchNormalization)   (None, 27, 27, 96)        384       \n",
            "_________________________________________________________________\n",
            "Conv2 (Conv2D)               (None, 27, 27, 256)       614656    \n",
            "_________________________________________________________________\n",
            "Pool2 (MaxPooling2D)         (None, 13, 13, 256)       0         \n",
            "_________________________________________________________________\n",
            "Norn2 (BatchNormalization)   (None, 13, 13, 256)       1024      \n",
            "_________________________________________________________________\n",
            "Conv3 (Conv2D)               (None, 13, 13, 384)       885120    \n",
            "_________________________________________________________________\n",
            "Conv4 (Conv2D)               (None, 13, 13, 384)       1327488   \n",
            "_________________________________________________________________\n",
            "Conv5 (Conv2D)               (None, 13, 13, 256)       884992    \n",
            "_________________________________________________________________\n",
            "Pool3 (MaxPooling2D)         (None, 6, 6, 256)         0         \n",
            "_________________________________________________________________\n",
            "flatten_1 (Flatten)          (None, 9216)              0         \n",
            "_________________________________________________________________\n",
            "FC4 (Dense)                  (None, 2048)              18876416  \n",
            "_________________________________________________________________\n",
            "dropout_2 (Dropout)          (None, 2048)              0         \n",
            "_________________________________________________________________\n",
            "FC5 (Dense)                  (None, 1000)              2049000   \n",
            "_________________________________________________________________\n",
            "dropout_3 (Dropout)          (None, 1000)              0         \n",
            "_________________________________________________________________\n",
            "FC6 (Dense)                  (None, 10)                10010     \n",
            "=================================================================\n",
            "Total params: 24,660,802\n",
            "Trainable params: 24,660,098\n",
            "Non-trainable params: 704\n",
            "_________________________________________________________________\n"
          ],
          "name": "stdout"
        }
      ]
    },
    {
      "cell_type": "code",
      "metadata": {
        "colab": {
          "base_uri": "https://localhost:8080/"
        },
        "id": "LHPN4WuFqfkK",
        "outputId": "79d8bf34-ba2b-4787-8ef2-cb16c36ab798"
      },
      "source": [
        "print(x_train.shape)\n",
        "print(np.array(train_data).shape)"
      ],
      "execution_count": null,
      "outputs": [
        {
          "output_type": "stream",
          "text": [
            "(60000, 28, 28)\n",
            "(60000, 227, 227, 1)\n"
          ],
          "name": "stdout"
        }
      ]
    },
    {
      "cell_type": "code",
      "metadata": {
        "id": "xNjQh8-XEdJD",
        "colab": {
          "base_uri": "https://localhost:8080/"
        },
        "outputId": "a6bc929b-5497-4b1d-8582-6cbead6fc887"
      },
      "source": [
        "model.compile(optimizer='adam',\n",
        "      loss='categorical_crossentropy',\n",
        "      metrics=[\"accuracy\"])\n",
        "\n",
        "history = model.fit(\n",
        "    train_data,\n",
        "    train_label,\n",
        "    batch_size=64,\n",
        "    validation_split=0.3,\n",
        "    epochs=30)"
      ],
      "execution_count": null,
      "outputs": [
        {
          "output_type": "stream",
          "text": [
            "Epoch 1/10\n",
            "657/657 [==============================] - 46s 66ms/step - loss: 0.8707 - accuracy: 0.7533 - val_loss: 0.1519 - val_accuracy: 0.9575\n",
            "Epoch 2/10\n",
            "657/657 [==============================] - 41s 63ms/step - loss: 0.1466 - accuracy: 0.9572 - val_loss: 0.1078 - val_accuracy: 0.9702\n",
            "Epoch 3/10\n",
            "657/657 [==============================] - 42s 64ms/step - loss: 0.1206 - accuracy: 0.9665 - val_loss: 0.0931 - val_accuracy: 0.9746\n",
            "Epoch 4/10\n",
            "657/657 [==============================] - 41s 63ms/step - loss: 0.1108 - accuracy: 0.9699 - val_loss: 0.0936 - val_accuracy: 0.9724\n",
            "Epoch 5/10\n",
            "657/657 [==============================] - 41s 63ms/step - loss: 0.0939 - accuracy: 0.9751 - val_loss: 0.0788 - val_accuracy: 0.9777\n",
            "Epoch 6/10\n",
            "657/657 [==============================] - 41s 63ms/step - loss: 0.0760 - accuracy: 0.9783 - val_loss: 0.0670 - val_accuracy: 0.9813\n",
            "Epoch 7/10\n",
            "657/657 [==============================] - 41s 62ms/step - loss: 0.0816 - accuracy: 0.9790 - val_loss: 0.0706 - val_accuracy: 0.9812\n",
            "Epoch 8/10\n",
            "657/657 [==============================] - 41s 62ms/step - loss: 0.0688 - accuracy: 0.9814 - val_loss: 0.0622 - val_accuracy: 0.9832\n",
            "Epoch 9/10\n",
            "657/657 [==============================] - 41s 62ms/step - loss: 0.0695 - accuracy: 0.9799 - val_loss: 0.0691 - val_accuracy: 0.9816\n",
            "Epoch 10/10\n",
            "657/657 [==============================] - 41s 62ms/step - loss: 0.0587 - accuracy: 0.9832 - val_loss: 0.0696 - val_accuracy: 0.9823\n"
          ],
          "name": "stdout"
        }
      ]
    },
    {
      "cell_type": "code",
      "metadata": {
        "colab": {
          "base_uri": "https://localhost:8080/",
          "height": 313
        },
        "id": "M7nduGNxqgYn",
        "outputId": "07eed4e3-dbaf-410d-95bb-a07116372058"
      },
      "source": [
        "import matplotlib.pyplot as plt\n",
        "plt.figure()\n",
        "plt.plot(history.history['loss'])\n",
        "plt.plot(history.history['val_loss'])\n",
        "plt.title('model loss')\n",
        "plt.ylabel('loss')\n",
        "plt.xlabel('epoch')\n"
      ],
      "execution_count": null,
      "outputs": [
        {
          "output_type": "execute_result",
          "data": {
            "text/plain": [
              "Text(0.5, 0, 'epoch')"
            ]
          },
          "metadata": {
            "tags": []
          },
          "execution_count": 38
        },
        {
          "output_type": "display_data",
          "data": {
            "image/png": "[encoded data removed]",
            "text/plain": [
              "<Figure size 432x288 with 1 Axes>"
            ]
          },
          "metadata": {
            "tags": [],
            "needs_background": "light"
          }
        }
      ]
    },
    {
      "cell_type": "code",
      "metadata": {
        "colab": {
          "base_uri": "https://localhost:8080/"
        },
        "id": "haBwm5LUqdSM",
        "outputId": "20fb4d00-5733-482c-8485-703941169cff"
      },
      "source": [
        "model.evaluate(test_data,test_label)"
      ],
      "execution_count": null,
      "outputs": [
        {
          "output_type": "stream",
          "text": [
            "313/313 [==============================] - 4s 11ms/step - loss: 0.0172 - accuracy: 0.9948\n"
          ],
          "name": "stdout"
        },
        {
          "output_type": "execute_result",
          "data": {
            "text/plain": [
              "[0.01717405393719673, 0.9947999715805054]"
            ]
          },
          "metadata": {
            "tags": []
          },
          "execution_count": 39
        }
      ]
    },
    {
      "cell_type": "code",
      "metadata": {
        "colab": {
          "base_uri": "https://localhost:8080/"
        },
        "id": "PQmAooqv8UK7",
        "outputId": "35829fee-c757-4b86-bb87-8ef706178e4e"
      },
      "source": [
        "import numpy as np\n",
        "from sklearn.metrics import classification_report\n",
        "predictions = model.predict(test_data)\n",
        "test_label=np.argmax(test_label, axis=1)\n",
        "print(classification_report(test_label, np.argmax(predictions, axis=1))) "
      ],
      "execution_count": null,
      "outputs": [
        {
          "output_type": "stream",
          "text": [
            "              precision    recall  f1-score   support\n",
            "\n",
            "           0       0.99      1.00      1.00       980\n",
            "           1       1.00      1.00      1.00      1135\n",
            "           2       1.00      1.00      1.00      1032\n",
            "           3       1.00      1.00      1.00      1010\n",
            "           4       0.99      1.00      1.00       982\n",
            "           5       0.99      0.99      0.99       892\n",
            "           6       1.00      0.99      0.99       958\n",
            "           7       0.99      1.00      0.99      1028\n",
            "           8       0.99      0.99      0.99       974\n",
            "           9       0.99      0.99      0.99      1009\n",
            "\n",
            "    accuracy                           0.99     10000\n",
            "   macro avg       0.99      0.99      0.99     10000\n",
            "weighted avg       0.99      0.99      0.99     10000\n",
            "\n"
          ],
          "name": "stdout"
        }
      ]
    }
  ]
}